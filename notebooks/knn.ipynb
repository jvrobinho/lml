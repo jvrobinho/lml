{
 "cells": [
  {
   "cell_type": "code",
   "execution_count": null,
   "metadata": {},
   "outputs": [],
   "source": [
    "import matplotlib\n",
    "import matplotlib.pyplot as plt\n",
    "import pandas as pd\n",
    "import numpy as np\n",
    "from pandas.plotting import scatter_matrix\n",
    "import os\n",
    "files = []\n",
    "for dirname, _, filenames in os.walk('../assets/data/'):\n",
    "    for filename in filenames:\n",
    "        files.append(os.path.join(dirname, filename))\n",
    "\n",
    "pd.set_option('display.max_columns', None)\n",
    "df = pd.read_csv(files[0])\n",
    "\n",
    "print(df.shape)\n",
    "# Get feats\n",
    "df.columns\n",
    "\n",
    "# Get 10 first elements\n",
    "df.head(10)\n",
    "\n",
    "%matplotlib inline\n",
    "dataset.hist()\n",
    "plt.show()"
   ]
  }
 ],
 "metadata": {
  "kernelspec": {
   "display_name": "Python 3",
   "language": "python",
   "name": "python3"
  },
  "language_info": {
   "codemirror_mode": {
    "name": "ipython",
    "version": 3
   },
   "file_extension": ".py",
   "mimetype": "text/x-python",
   "name": "python",
   "nbconvert_exporter": "python",
   "pygments_lexer": "ipython3",
   "version": "3.7.0"
  }
 },
 "nbformat": 4,
 "nbformat_minor": 4
}
